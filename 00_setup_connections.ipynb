{
 "cells": [
  {
   "cell_type": "code",
   "execution_count": 0,
   "metadata": {
    "application/vnd.databricks.v1+cell": {
     "cellMetadata": {
      "byteLimit": 2048000,
      "rowLimit": 10000
     },
     "inputWidgets": {},
     "nuid": "bcfe9015-d1db-4b34-af88-783e38cd7334",
     "showTitle": false,
     "tableResultSettingsMap": {},
     "title": ""
    }
   },
   "outputs": [],
   "source": [
    "raw_bucket = \"crypto-databricks-1760666848-raw-trades\"\n",
    "\n",
    "try:\n",
    "    files = dbutils.fs.ls(f\"s3a://{raw_bucket}/sample-data/\")\n",
    "    print(f\"S3 access works! Found {len(files)} file(s):\")\n",
    "    for file in files:\n",
    "        print(f\" -{file.name} ({file.size:,} bytes)\")\n",
    "except Exception as e:\n",
    "    print(f\" S3 access failed (expected: {e})\")"
   ]
  },
  {
   "cell_type": "code",
   "execution_count": 0,
   "metadata": {
    "application/vnd.databricks.v1+cell": {
     "cellMetadata": {
      "byteLimit": 2048000,
      "rowLimit": 10000
     },
     "inputWidgets": {},
     "nuid": "db8decd3-33ab-41e1-b001-b959792d9272",
     "showTitle": false,
     "tableResultSettingsMap": {},
     "title": ""
    }
   },
   "outputs": [],
   "source": [
    "import pandas as pd\n",
    "from datetime import datetime, timedelta\n",
    "import random\n",
    "\n",
    "NUM_TRADES = 100000\n",
    "SYMBOLS = ['BTC-USD', 'ETH-USD', 'SOL-USD', 'MATIC-USD', 'AVAX-USD']\n",
    "EXCHANGES = ['Coinbase', 'Binance', 'Kraken', 'Gemini']\n",
    "START_DATE = datetime.now() - timedelta(days=90)\n",
    "BASE_PRICES = {'BTC-USD': 45000, 'ETH-USD': 2500, 'SOL-USD': 100, 'MATIC-USD': 0.80, 'AVAX-USD': 35}\n",
    "\n",
    "trades = []\n",
    "for i in range(NUM_TRADES):\n",
    "    symbol = random.choice(SYMBOLS)\n",
    "    price = BASE_PRICES[symbol] * (1 + random.uniform(-0.05, 0.05))\n",
    "    trades.append({\n",
    "        'trade_id': f'TRADE{i:08d}',\n",
    "        'symbol': symbol,\n",
    "        'price': round(price, 2),\n",
    "        'volume': round(random.uniform(0.001, 10.0), 8),\n",
    "        'trade_type': random.choice(['buy', 'sell']),\n",
    "        'exchange': random.choice(EXCHANGES),\n",
    "        'timestamp': START_DATE + timedelta(seconds=random.randint(0, 90*24*60*60)),\n",
    "        'user_id': f'user{random.randint(1, 1000):04d}'\n",
    "    })\n",
    "\n",
    "df = pd.DataFrame(trades)\n",
    "df.to_parquet('crypto_trades_new.parquet', compression='snappy', index=False)\n",
    "print(f\"✓ Created {len(df):,} trades\")"
   ]
  },
  {
   "cell_type": "code",
   "execution_count": 0,
   "metadata": {
    "application/vnd.databricks.v1+cell": {
     "cellMetadata": {
      "byteLimit": 2048000,
      "rowLimit": 10000
     },
     "inputWidgets": {},
     "nuid": "8783296a-f024-4785-a031-39b29c3584a5",
     "showTitle": false,
     "tableResultSettingsMap": {},
     "title": ""
    }
   },
   "outputs": [],
   "source": [
    "from pyspark.sql.types import *\n",
    "from datetime import datetime, timedelta\n",
    "import random\n",
    "\n",
    "random.seed(42)\n",
    "\n",
    "print(\"🔄 Generating crypto trades...\")\n",
    "\n",
    "# Config\n",
    "NUM_TRADES = 100000\n",
    "SYMBOLS = ['BTC-USD', 'ETH-USD', 'SOL-USD', 'MATIC-USD', 'AVAX-USD']\n",
    "EXCHANGES = ['Coinbase', 'Binance', 'Kraken', 'Gemini']\n",
    "BASE_PRICES = {'BTC-USD': 45000, 'ETH-USD': 2500, 'SOL-USD': 100, 'MATIC-USD': 0.80, 'AVAX-USD': 35}\n",
    "\n",
    "# Schema\n",
    "schema = StructType([\n",
    "    StructField(\"trade_id\", StringType(), False),\n",
    "    StructField(\"symbol\", StringType(), False),\n",
    "    StructField(\"price\", DoubleType(), False),\n",
    "    StructField(\"volume\", DoubleType(), False),\n",
    "    StructField(\"trade_type\", StringType(), False),\n",
    "    StructField(\"exchange\", StringType(), False),\n",
    "    StructField(\"timestamp\", TimestampType(), False),\n",
    "    StructField(\"user_id\", StringType(), False)\n",
    "])\n",
    "\n",
    "# Generate data\n",
    "trades = []\n",
    "start_date = datetime.now() - timedelta(days=90)\n",
    "\n",
    "for i in range(NUM_TRADES):\n",
    "    symbol = random.choice(SYMBOLS)\n",
    "    price = BASE_PRICES[symbol] * (1 + random.uniform(-0.05, 0.05))\n",
    "    trades.append((\n",
    "        f\"TRADE{i:08d}\",\n",
    "        symbol,\n",
    "        round(price, 2),\n",
    "        round(random.uniform(0.001, 10.0), 8),\n",
    "        random.choice(['buy', 'sell']),\n",
    "        random.choice(EXCHANGES),\n",
    "        start_date + timedelta(seconds=random.randint(0, 90*24*60*60)),\n",
    "        f\"user{random.randint(1, 1000):04d}\"\n",
    "    ))\n",
    "\n",
    "df = spark.createDataFrame(trades, schema)\n",
    "print(f\"✓ Generated {df.count():,} trades\")\n",
    "\n",
    "# Write to S3\n",
    "output = \"s3a://crypto-databricks-1760666848-raw-trades/trades/crypto_trades.parquet\"\n",
    "df.write.mode(\"overwrite\").parquet(output)\n",
    "\n",
    "print(f\"✓ Saved to S3: {output}\")\n",
    "display(df.limit(10))"
   ]
  },
  {
   "cell_type": "code",
   "execution_count": 0,
   "metadata": {
    "application/vnd.databricks.v1+cell": {
     "cellMetadata": {
      "byteLimit": 2048000,
      "rowLimit": 10000
     },
     "inputWidgets": {},
     "nuid": "2a0c674c-9233-4342-b97f-8ab7f7c20987",
     "showTitle": false,
     "tableResultSettingsMap": {},
     "title": ""
    }
   },
   "outputs": [],
   "source": [
    "df = spark.read.parquet(\"s3a://crypto-databricks-1760666848-raw-trades/trades/crypto_trades.parquet\")\n",
    "\n",
    "print (f\"Loaded {df.count():,} trades\")\n",
    "df.printSchema()\n",
    "display(df.limit(10))"
   ]
  }
 ],
 "metadata": {
  "application/vnd.databricks.v1+notebook": {
   "computePreferences": null,
   "dashboards": [],
   "environmentMetadata": {
    "base_environment": "",
    "environment_version": "4"
   },
   "inputWidgetPreferences": null,
   "language": "python",
   "notebookMetadata": {
    "pythonIndentUnit": 4
   },
   "notebookName": "00_setup_connections",
   "widgets": {}
  },
  "language_info": {
   "name": "python"
  }
 },
 "nbformat": 4,
 "nbformat_minor": 0
}
